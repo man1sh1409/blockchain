{
  "nbformat": 4,
  "nbformat_minor": 0,
  "metadata": {
    "colab": {
      "provenance": [],
      "collapsed_sections": [
        "GKCeyQ1rgLrL",
        "sEJPYESQgWpl"
      ],
      "toc_visible": true,
      "authorship_tag": "ABX9TyPr2bPa4+MhEm8PeG6nor0O",
      "include_colab_link": true
    },
    "kernelspec": {
      "name": "python3",
      "display_name": "Python 3"
    },
    "language_info": {
      "name": "python"
    }
  },
  "cells": [
    {
      "cell_type": "markdown",
      "metadata": {
        "id": "view-in-github",
        "colab_type": "text"
      },
      "source": [
        "<a href=\"https://colab.research.google.com/github/man1sh1409/blockchain/blob/main/blockchain.ipynb\" target=\"_parent\"><img src=\"https://colab.research.google.com/assets/colab-badge.svg\" alt=\"Open In Colab\"/></a>"
      ]
    },
    {
      "cell_type": "code",
      "source": [
        "import hashlib\n",
        "import time"
      ],
      "metadata": {
        "id": "yL3W6c6l4wAA"
      },
      "execution_count": null,
      "outputs": []
    },
    {
      "cell_type": "code",
      "source": [
        "#creating a Block class\n",
        "class Block:\n",
        "  def __init__(self,block_no,prev_hash,nonce,timestamp,transactions='null'):\n",
        "    self.block_no=block_no\n",
        "    self.prev_hash=prev_hash\n",
        "    self.transactions=transactions\n",
        "    self.nonce=nonce\n",
        "    self.timestamp=timestamp\n",
        "    \n",
        "    "
      ],
      "metadata": {
        "id": "YPBTJCqb49yL"
      },
      "execution_count": null,
      "outputs": []
    },
    {
      "cell_type": "markdown",
      "source": [
        "## Block chain"
      ],
      "metadata": {
        "id": "GKCeyQ1rgLrL"
      }
    },
    {
      "cell_type": "code",
      "source": [
        "# creating Block chain class\n",
        "class BlockChain:\n",
        "  difficulty=2\n",
        "  def __init__(self):\n",
        "    self.chain=[self.create_genesis_block()]\n",
        "\n",
        "  def mine_block(self,data):\n",
        "    prefix_str='0'*self.difficulty\n",
        "    sha=hashlib.sha256()\n",
        "  \n",
        "    for nonce in range(100000):\n",
        "      sha.update(data.encode('ascii'))\n",
        "      new_hash=sha.hexdigest()\n",
        "      if(new_hash.startswith(prefix_str)):\n",
        "        curr_time=str(time.time())\n",
        "        return nonce,curr_time,new_hash\n",
        "  \n",
        "  def create_genesis_block(self):\n",
        "    prefix_str='0'*self.difficulty\n",
        "    sha=hashlib.sha256()\n",
        "    \n",
        "    for nonce in range(100000):\n",
        "      txt='0'+'0'+str(nonce)\n",
        "      sha.update(txt.encode('ascii'))\n",
        "      new_hash=sha.hexdigest()\n",
        "      if(new_hash.startswith(prefix_str)):\n",
        "        curr_time=str(time.time())\n",
        "        gblock=Block(0,'0',nonce,curr_time)\n",
        "        gblock.hash=new_hash\n",
        "    return gblock\n",
        "  \n",
        "  def add_block(self):\n",
        "    prev_block=self.chain[-1]\n",
        "    data=str(prev_block.block_no)+prev_block.prev_hash+str(prev_block.nonce)\n",
        "    curr_nonce,curr_time,temp_hash=self.mine_block(data)\n",
        "    bl_no=prev_block.block_no+1\n",
        "    new_block=Block(bl_no,prev_block.hash,curr_nonce,curr_time)\n",
        "    new_block.hash=temp_hash\n",
        "    self.chain.append(new_block)\n",
        "  \n",
        "  def show_block(self):\n",
        "    for block in self.chain:\n",
        "      print('height: ',block.block_no)\n",
        "      print('Nonce: ',block.nonce)\n",
        "      print('previous hash: ',block.prev_hash)\n",
        "      print('block hash:: ',block.hash)\n",
        "      print('time stamp: ',block.timestamp)\n",
        "      print('\\n')"
      ],
      "metadata": {
        "id": "mS6oq-zB6HqE"
      },
      "execution_count": null,
      "outputs": []
    },
    {
      "cell_type": "markdown",
      "source": [
        "## Block chain object"
      ],
      "metadata": {
        "id": "sEJPYESQgWpl"
      }
    },
    {
      "cell_type": "code",
      "source": [
        "blockchain=BlockChain()"
      ],
      "metadata": {
        "id": "trjaVl0d8pKb"
      },
      "execution_count": null,
      "outputs": []
    },
    {
      "cell_type": "markdown",
      "source": [
        "## printing things"
      ],
      "metadata": {
        "id": "3cq9IQ7Hgd4D"
      }
    },
    {
      "cell_type": "code",
      "source": [
        "for i in range(3):\n",
        "  blockchain.add_block()\n",
        "\n",
        "blockchain.show_block()"
      ],
      "metadata": {
        "colab": {
          "base_uri": "https://localhost:8080/"
        },
        "id": "eZJOz_LC8rpM",
        "outputId": "28f49b08-1b28-4332-f753-8d92d8888480"
      },
      "execution_count": null,
      "outputs": [
        {
          "output_type": "stream",
          "name": "stdout",
          "text": [
            "height:  0\n",
            "Nonce:  99580\n",
            "previous hash:  0\n",
            "block hash::  00f3efe02548874810d793b9dc14da79474098ed2a032313343823fb0fe25af9\n",
            "time stamp:  1679858818.955243\n",
            "\n",
            "\n",
            "height:  1\n",
            "Nonce:  1844\n",
            "previous hash:  00f3efe02548874810d793b9dc14da79474098ed2a032313343823fb0fe25af9\n",
            "block hash::  0021fc22d8c7fcd55ceedb69d8804884ea8f201e34a59d79959f89b8c7ca4463\n",
            "time stamp:  1679858822.0560534\n",
            "\n",
            "\n",
            "height:  2\n",
            "Nonce:  34\n",
            "previous hash:  0021fc22d8c7fcd55ceedb69d8804884ea8f201e34a59d79959f89b8c7ca4463\n",
            "block hash::  0088567971fa4c9e09169ac032e1e9d2fd3a6d2d48f6bcd32c4f6fd05a0106b4\n",
            "time stamp:  1679858822.0561547\n",
            "\n",
            "\n",
            "height:  3\n",
            "Nonce:  11\n",
            "previous hash:  0088567971fa4c9e09169ac032e1e9d2fd3a6d2d48f6bcd32c4f6fd05a0106b4\n",
            "block hash::  00a9bfd54fa3e026ab8aa643f319a660b1126c50e2e6578ac96b376260a29b36\n",
            "time stamp:  1679858822.0561845\n",
            "\n",
            "\n"
          ]
        }
      ]
    }
  ]
}